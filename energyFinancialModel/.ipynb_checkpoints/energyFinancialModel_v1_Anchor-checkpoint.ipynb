{
 "cells": [
  {
   "cell_type": "code",
   "execution_count": 1,
   "metadata": {},
   "outputs": [],
   "source": [
    "# TODO update interest rate logic on offering "
   ]
  },
  {
   "cell_type": "markdown",
   "metadata": {},
   "source": [
    "# Electraseed Energy Financial Model - Version 1: Anchor"
   ]
  },
  {
   "cell_type": "markdown",
   "metadata": {},
   "source": [
    "## Purpose\n",
    "The energy financial model version 1 evaluates the financial performance of an aggregated pool of loans to clean energy developers, and the resulting outcomes for the investor, the developers, the Electraseed Fund, and any 3rd party actors."
   ]
  },
  {
   "cell_type": "markdown",
   "metadata": {},
   "source": [
    "## Structure\n",
    "The basic structure is comprised of the following components:  \n",
    "\n",
    "**Inputs**  \n",
    "* Library Import  \n",
    "* Input Definition  \n",
    "\n",
    "**Actors**  \n",
    "* Actor Class Definition  \n",
    "* Actor Creation  \n",
    "\n",
    "**Loan Creations**  \n",
    "* Loan Menu Creation  \n",
    "* Portfolio Optimizer  \n",
    "* Loan Matching  \n",
    "\n",
    "**Investment Projections**  \n",
    "* Investment Math  \n",
    "* Risk Projections  \n",
    "\n",
    "**Outputs**  \n",
    "* Output Aggregation  \n",
    "* Output Dashboard"
   ]
  },
  {
   "cell_type": "markdown",
   "metadata": {},
   "source": [
    "## Energy Model"
   ]
  },
  {
   "cell_type": "markdown",
   "metadata": {},
   "source": [
    "### Library Import\n",
    "Import libraries requried for energy financial model"
   ]
  },
  {
   "cell_type": "code",
   "execution_count": 2,
   "metadata": {},
   "outputs": [],
   "source": [
    "import numpy as np\n",
    "import pandas as pd\n",
    "import scipy.optimize as sco\n",
    "import random\n",
    "import math"
   ]
  },
  {
   "cell_type": "markdown",
   "metadata": {},
   "source": [
    "### Input Definition\n",
    "Inputs are entered here as described above"
   ]
  },
  {
   "cell_type": "code",
   "execution_count": 3,
   "metadata": {
    "scrolled": true
   },
   "outputs": [],
   "source": [
    "# Invididual Energy Asset Information\n",
    "# TODO2 get names of individual projects\n",
    "# TODO2 get actual numbers\n",
    "dea_names = ['Polarstern', 'MaxSolar', 'Solartainer', 'SOLShare'] # name of dea\n",
    "dea_locations = ['Germany', 'Germany', 'Mali', 'Bangladesh'] # location of dea\n",
    "dea_classifications = ['developed', 'developed', 'developing', 'developing'] # classification of economy\n",
    "dea_loansizerequests = [2000000,1000000,500000,500000] # euros loan requested\n",
    "dea_rateappetites = [0.04, 0.07, 0.10, 0.16] # % annual interest appetite\n",
    "dea_defaultrates = [0.04, 0.05, 0.15, 0.20] # % annual risk of default\n",
    "dea_paymentfreqs = [1, 1, 1, 12] # months between interest payments\n",
    "dea_loanperiods = [15, 15, 10, 15] # years of loan period\n",
    "\n",
    "# Investor Information\n",
    "investor_names = ['altruistic', 'impact1', 'impact2', 'impact3', 'monopolyman'] # name of investor\n",
    "investor_investment_requests = [1000000, 1000000, 1000000, 1000000, 1000000] # euros investment\n",
    "investor_ratefloors = [0.00, 0.05, 0.04, 0.03, 0.07] # % annual interest minimum\n",
    "investor_riskappetites = [0.08, 0.04, 0.06, 0.06, 0.02] # % annual risk of default\n",
    "investor_riskfreerates = [0.01, 0.01, 0.01, 0.01, 0.01]\n",
    "\n",
    "# Underwriter Information\n",
    "uw_names = ['1', '2', '3', '4']\n",
    "uw_locations = ['Germany', 'Mali', 'Bangladesh', 'Bangladesh']\n",
    "uw_maxloans = [5000000, 400000, 250000, 300000] # euros max underwrite\n",
    "uw_rateinvs = [0.04, 0.09, 0.11, 0.11] # % annual interest rate OFFER\n",
    "uw_ratedeas = [0.02, 0.10, 0.12, 0.12] # % annual interest minimum LOAN OUT\n",
    "uw_riskappetites = [0.03, 0.15, 0.15, 0.15] # % annual risk of default appetite\n",
    "\n",
    "# spv Information\n",
    "spv_names = ['Electraseed']\n",
    "spv_interestratios = [0.15]"
   ]
  },
  {
   "cell_type": "markdown",
   "metadata": {},
   "source": [
    "### Actor Class Definition\n",
    "Define digital energy asset, investor, and other actor classes"
   ]
  },
  {
   "cell_type": "code",
   "execution_count": 4,
   "metadata": {},
   "outputs": [],
   "source": [
    "# Digital Energy Asset (DEA) class\n",
    "class dea_: \n",
    "    def __init__(self, name, location, classification, loansizerequest, rateappetite, defaultrate, paymentfreq, loanperiod):\n",
    "        # attributes\n",
    "        self.name = name\n",
    "        self.location = location\n",
    "        self.classification = classification\n",
    "        self.loansizerequest = loansizerequest\n",
    "        self.rateappetite = rateappetite\n",
    "        self.defaultrate = defaultrate\n",
    "        self.paymentfreq = paymentfreq\n",
    "        self.loanperiod = loanperiod\n",
    "        # loan tracking\n",
    "        self.activeloanamount = 0\n",
    "        self.indexnum = None\n",
    "        # TODO3 add energy data\n",
    "        \n",
    "# Investor class\n",
    "class investor_:\n",
    "    def __init__(self, name, investment_request, ratefloor, riskappetite, riskfreerate):\n",
    "        self.name = name\n",
    "        self.investment_request = investment_request\n",
    "        self.ratefloor = ratefloor\n",
    "        self.riskappetite = riskappetite\n",
    "        self.riskfreerate = riskfreerate\n",
    "        # TODO2 add optimization metric\n",
    "        \n",
    "# Underwriter class\n",
    "class underwriter_:\n",
    "    def __init__(self, name, location, maxloan, rateinv, ratedea, riskappetite):\n",
    "        self.name = name\n",
    "        self.location = location\n",
    "        self.maxloan = maxloan\n",
    "        self.rateinv = rateinv\n",
    "        self.ratedea = ratedea\n",
    "        self.riskappetite = riskappetite\n",
    "        # loan tracking\n",
    "        self.activedealoanamount = 0\n",
    "        self.activespvloanamount = 0\n",
    "        \n",
    "# Elecraseed class\n",
    "class spv_:\n",
    "    def __init__(self, name, interestratio):\n",
    "        self.name = name\n",
    "        self.interestratio = interestratio"
   ]
  },
  {
   "cell_type": "markdown",
   "metadata": {},
   "source": [
    "### Actor Creation\n",
    "Create the actual entities involved in our ecosystem, filling out their appropriate attributes.  \n",
    "Each of the entities are placed in a list of all existing entities of that class"
   ]
  },
  {
   "cell_type": "code",
   "execution_count": 5,
   "metadata": {},
   "outputs": [],
   "source": [
    "# Digital Energy Assets\n",
    "deas = []\n",
    "for i in range(len(dea_names)):\n",
    "    deas.append(dea_(dea_names[i], dea_locations[i], dea_classifications[i], dea_loansizerequests[i], dea_rateappetites[i], dea_defaultrates[i], dea_paymentfreqs[i], dea_loanperiods[i]))\n",
    "    deas[i].indexnum = i # set index num for later reference\n",
    "    \n",
    "# Investors\n",
    "investors = []\n",
    "for i in range(len(investor_names)):\n",
    "    investors.append(investor_(investor_names[i], investor_investment_requests[i], investor_ratefloors[i], investor_riskappetites[i], investor_riskfreerates[i]))\n",
    "\n",
    "# Underwriters\n",
    "underwriters = []\n",
    "for i in range(len(uw_locations)):\n",
    "    underwriters.append(underwriter_(uw_names[i], uw_locations[i], uw_maxloans[i], uw_rateinvs[i], uw_ratedeas[i], uw_riskappetites[i]))\n",
    "\n",
    "# spvs\n",
    "spvs = [spv_(spv_names, spv_interestratios)]\n"
   ]
  },
  {
   "cell_type": "markdown",
   "metadata": {},
   "source": [
    "### Loan Menu Creation\n",
    "Create the 'menu' of loans available to investors  \n",
    "#### Create the Loan Class"
   ]
  },
  {
   "cell_type": "code",
   "execution_count": 6,
   "metadata": {},
   "outputs": [],
   "source": [
    "# Loan class\n",
    "class loan_:\n",
    "    def __init__(self, borrower, lender, amount, ratedea, rateinv, paymentfreq, loanperiod, defaultrate):\n",
    "        self.borrower = borrower\n",
    "        self.lender = lender\n",
    "        self.amount = amount\n",
    "        self.ratedea = ratedea\n",
    "        self.rateinv = rateinv\n",
    "        self.paymentfreq = paymentfreq\n",
    "        self.loanperiod = loanperiod\n",
    "        self.defaultrate = defaultrate\n",
    "        # loan tracking\n",
    "        self.amountfinanced = 0"
   ]
  },
  {
   "cell_type": "markdown",
   "metadata": {},
   "source": [
    "#### Loan Requests Fracturing and Loan Menu Creation\n",
    "Fracture the loan requests based on the underwriter's loan offerings.  \n",
    "Add each of these to a loan 'menu' to pair with investors"
   ]
  },
  {
   "cell_type": "code",
   "execution_count": 7,
   "metadata": {},
   "outputs": [
    {
     "name": "stdout",
     "output_type": "stream",
     "text": [
      "Total loan amount requested: 4000000\n",
      "Number of loan options created: 5\n",
      "Total loan amount fundable: 3900000\n"
     ]
    }
   ],
   "source": [
    "# Underwriter - DEA loan matching\n",
    "\n",
    "# match deas to underwriters if loan is possible\n",
    "loan_menu = []\n",
    "total_loan_amount_requested = 0\n",
    "total_amount_in_loan_options = 0\n",
    "for dea in deas:\n",
    "    total_loan_amount_requested += dea.loansizerequest\n",
    "    if dea.activeloanamount < dea.loansizerequest: # check if loan needed\n",
    "        for underwriter in underwriters:\n",
    "            # TODO2 add sorting script for loan rates\n",
    "            if underwriter.location == dea.location: # check if eligible to loan\n",
    "                if underwriter.ratedea <= dea.rateappetite: # check rate eligible\n",
    "                    ratedea = underwriter.ratedea # rate is underwriters offer to dea\n",
    "                    rateinv = underwriter.rateinv\n",
    "                    amount = min(underwriter.maxloan-underwriter.activedealoanamount, dea.loansizerequest-dea.activeloanamount) # amount is what dea asks for or max underwriter offer\n",
    "                    loan = loan_(dea, underwriter, amount, ratedea, rateinv, dea.paymentfreq, dea.loanperiod, dea.defaultrate)\n",
    "                    underwriter.activedealoanamount += amount # track active loans\n",
    "                    dea.activeloanamount += amount # track active loan amount\n",
    "                    total_amount_in_loan_options += amount #\n",
    "                    loan_menu.append(loan) # track active loans in loan menu\n",
    "\n",
    "print(\"Total loan amount requested:\", total_loan_amount_requested)\n",
    "print(\"Number of loan options created:\", len(loan_menu))\n",
    "print(\"Total loan amount fundable:\", total_amount_in_loan_options)\n",
    "            \n",
    "        \n",
    "    \n",
    "\n"
   ]
  },
  {
   "cell_type": "markdown",
   "metadata": {},
   "source": [
    "#### Covariance Matrix Definition\n",
    "Create the covariance matrix for risk of the projected loans"
   ]
  },
  {
   "cell_type": "code",
   "execution_count": 8,
   "metadata": {},
   "outputs": [],
   "source": [
    "# Create covariance matrix\n",
    "def covariance_matrix_creator(loans):\n",
    "    location_same_cov = 0.15 # cov impact if in same location\n",
    "    location_dif_cov = 0. # cov impact if in different location\n",
    "    classification_same_cov = 0.15 # cov impact if same classification\n",
    "    classification_dif_cov = -0.1 # cov impact if different classification\n",
    "    same_borrower_dif_cov = 0.9\n",
    "    cov_matrix = np.zeros((len(loans), len(loans))) # initialize covariance matrix\n",
    "    for i in range(len(loans)):\n",
    "        for j in range(i, len(loans)):\n",
    "            if i == j: \n",
    "                cov_matrix[i][j] = 1 # set diagonal to 1\n",
    "            else:\n",
    "                if loans[i].borrower.name == loans[j].borrower.name: # check if same name\n",
    "                    cov_matrix[i][j] = same_borrower_dif_cov\n",
    "                    cov_matrix[j][i] = same_borrower_dif_cov\n",
    "                else:\n",
    "                    if loans[i].borrower.location == loans[j].borrower.location: # check for location cov\n",
    "                        cov_matrix[i][j] += location_same_cov\n",
    "                        cov_matrix[j][i] = cov_matrix[i][j]\n",
    "                    else:\n",
    "                        cov_matrix[i][j] += location_dif_cov\n",
    "                        cov_matrix[j][i] = cov_matrix[i][j]\n",
    "                    if loans[i].borrower.classification == loans[j].borrower.classification: # check for economy classification cov\n",
    "                        cov_matrix[i][j] += classification_same_cov\n",
    "                        cov_matrix[j][i] = cov_matrix[i][j]\n",
    "                    else:\n",
    "                        cov_matrix[i][j] += classification_dif_cov\n",
    "                        cov_matrix[j][i] = cov_matrix[i][j]\n",
    "    return cov_matrix\n",
    "\n",
    "cov_matrix = covariance_matrix_creator(loan_menu)"
   ]
  },
  {
   "cell_type": "markdown",
   "metadata": {},
   "source": [
    "### Portfolio Optimizer Definition\n",
    "Before we can match loans to investors, we need to create 'optimal' portfolio math based on investor-specific inputs"
   ]
  },
  {
   "cell_type": "code",
   "execution_count": 9,
   "metadata": {},
   "outputs": [],
   "source": [
    "# define function to calculate portfolio performance\n",
    "def portfolio_performance(weights, returns, stds, cov_matrix):\n",
    "    p_ret = np.sum(weights * np.asarray(returns)) # calculate return\n",
    "    # calculate std using 'modern portfolio theory', calculations available on wiki\n",
    "    p_std = 0 \n",
    "    for i in range(len(weights)): # summation of each weights^2 and std^2\n",
    "        p_std += (weights[i]**2)*(stds[i])**2\n",
    "    for i in range(len(weights)): # summation of covariance calculation\n",
    "        for j in range(len(weights)):\n",
    "            if i != j:\n",
    "                p_std += weights[i]*weights[j]*stds[i]*stds[j]*cov_matrix[i][j]\n",
    "    p_std = np.sqrt(p_std) # sqrt for variance --> std\n",
    "    # TODO check risk calculation for type of loan\n",
    "    return p_std, p_ret\n",
    "\n",
    "# define function to get sharpe ratio for optimization measure\n",
    "def neg_sharpe_ratio(weights, returns, stds, cov_matrix, risk_free_rate):\n",
    "    p_std, p_ret = portfolio_performance(weights, returns, stds, cov_matrix) # get std and return\n",
    "    return -(p_ret - risk_free_rate) / p_std # calculate sharpe ratio\n",
    "\n",
    "#TODO define function to get social / environmental optimization\n",
    "\n",
    "# define function to find optimal portfolio weights\n",
    "def portfolio_optimizer(loan_menu, cov_matrix, investor, return_rates, stds, amounts):\n",
    "    # TODO2 optimize for impact\n",
    "    # TODO2 instead return efficient frontier, maybe then can optimize further for impact?\n",
    "    # set investor investment amount to min amount remaining against requested amount\n",
    "    investor.investment = min(investor.investment_request, np.sum(amounts))\n",
    "    num_assets = len(loan_menu)\n",
    "    args = (return_rates, stds, cov_matrix, investor.riskfreerate)\n",
    "    # set helper functions for constraints\n",
    "    def portfolio_risk(weights):\n",
    "        return portfolio_performance(weights, return_rates, stds, cov_matrix)[0]\n",
    "    def portfolio_return(weights):\n",
    "        return portfolio_performance(weights, return_rates, stds, cov_matrix)[1]\n",
    "    # define constraints\n",
    "    constraints = ({'type': 'eq', 'fun': lambda x: np.sum(x) - 1}, # weights sum to 1\n",
    "                   {'type': 'ineq', 'fun': lambda x: amounts - x * investor.investment}, # investor investment <= requested loan amount\n",
    "                   {'type': 'ineq', 'fun': lambda x: investor.riskappetite - portfolio_risk(x)}, # portfolio risk <= investor risk appetite\n",
    "                   {'type': 'ineq', 'fun': lambda x: portfolio_return(x) - investor.ratefloor}) # portfolio return >= investor rate floor\n",
    "                   \n",
    "    bound = (0.0, 1.0) # set bounds for the portfolio weights\n",
    "    bounds = tuple(bound for asset in range(num_assets))\n",
    "    # run actual optimization on negative sharpe ratio (will move to impact ratio)\n",
    "    result = sco.minimize(neg_sharpe_ratio, num_assets*[1./num_assets], args=args, method='SLSQP', bounds=bounds, constraints=constraints)\n",
    "    return result\n",
    "\n",
    "def optimize_portfolio(loan_menu, cov_matrix, investor, return_rates, return_rates_investor, stds, amounts):\n",
    "    opt = portfolio_optimizer(loan_menu, cov_matrix, investor, return_rates_investor, stds, amounts) # get optimal portfolio base on inputs\n",
    "    weights = opt.x # extract output weights\n",
    "    # print some relevant outputs\n",
    "    print('--------')\n",
    "    print('investor:', investor.name)\n",
    "    print('investment:',np.round(investor.investment),\"of\",investor.investment_request,\"requested\")\n",
    "    print('risk tol:', investor.riskappetite, 'rate floor:', investor.ratefloor, 'risk free:', investor.riskfreerate)\n",
    "    if opt.success:\n",
    "        print('optimal portfolio found:')\n",
    "    else:\n",
    "        print('not all constraints met. Best we could do:')\n",
    "    p_std, p_ret = portfolio_performance(weights, return_rates_investor, stds, cov_matrix) # get optimal portfolio performance\n",
    "    print('inv_risk:',np.round(p_std*100,2),'%,', 'inv_return:',np.round(p_ret*100,2),'%,', 'inv_sharpe:', np.round((p_ret-investor.riskfreerate)/p_std,2))\n",
    "    print('portfolio weights', np.round(weights,2))\n",
    "    print('portfolio investments', np.round(weights*investor.investment))\n",
    "    print('loan requested', np.round(amounts))\n",
    "    print('loan request remaining', np.round(amounts)-np.round(weights*investor.investment))\n",
    "    print('inv_returns:', np.round(np.asarray(return_rates_investor)*100,2))\n",
    "    print('inv_risks:', np.round(np.asarray(stds)*100,2))\n",
    "    p_std, p_ret = portfolio_performance(weights, return_rates, stds, cov_matrix) # get optimal portfolio performance\n",
    "    print('tot_risk:',np.round(p_std*100,2),'%,', 'tot_return:',np.round(p_ret*100,2),'%,', 'tot_sharpe:', np.round((p_ret-investor.riskfreerate)/p_std,2))\n",
    "    print('tot_returns:', np.round(np.asarray(return_rates)*100,2))\n",
    "    print('tot_risks:', np.round(np.asarray(stds)*100,2))\n",
    "    return opt.success, weights"
   ]
  },
  {
   "cell_type": "markdown",
   "metadata": {},
   "source": [
    "### SPV Business Case\n",
    "Addd tool to adjust rate that investor sees to allow for SPV revenue from interest payments. "
   ]
  },
  {
   "cell_type": "code",
   "execution_count": 10,
   "metadata": {},
   "outputs": [],
   "source": [
    "# calculate new interest rate for investor based on spv cut\n",
    "def investor_interest_after_spv_cut(rates, spv):\n",
    "    investor_rates = np.asarray(rates) * (1.-spv.interestratio[0]) # cut interest rates by ratio\n",
    "    return investor_rates"
   ]
  },
  {
   "cell_type": "markdown",
   "metadata": {},
   "source": [
    "### Loan Matching\n",
    "Tinder for loans"
   ]
  },
  {
   "cell_type": "code",
   "execution_count": 11,
   "metadata": {},
   "outputs": [
    {
     "name": "stdout",
     "output_type": "stream",
     "text": [
      "--------\n",
      "investor: altruistic\n",
      "investment: 1000000 of 1000000 requested\n",
      "risk tol: 0.08 rate floor: 0.0 risk free: 0.01\n",
      "optimal portfolio found:\n",
      "inv_risk: 3.48 %, inv_return: 4.38 %, inv_sharpe: 0.97\n",
      "portfolio weights [0.51 0.29 0.11 0.04 0.04]\n",
      "portfolio investments [514626. 288532. 112793.  42025.  42025.]\n",
      "loan requested [2000000 1000000  400000  250000  250000]\n",
      "loan request remaining [1485374.  711468.  287207.  207975.  207975.]\n",
      "inv_returns: [3.4  3.4  7.65 9.35 9.35]\n",
      "inv_risks: [ 4.  5. 15. 20. 20.]\n",
      "tot_risk: 3.48 %, tot_return: 5.15 %, tot_sharpe: 1.19\n",
      "tot_returns: [ 4.  4.  9. 11. 11.]\n",
      "tot_risks: [ 4.  5. 15. 20. 20.]\n",
      "--------\n",
      "investor: impact1\n",
      "investment: 1000000 of 1000000 requested\n",
      "risk tol: 0.04 rate floor: 0.05 risk free: 0.01\n",
      "not all constraints met. Best we could do:\n",
      "inv_risk: 4.42 %, inv_return: 5.0 %, inv_sharpe: 0.9\n",
      "portfolio weights [0.43 0.25 0.18 0.07 0.07]\n",
      "portfolio investments [426826. 253618. 177268.  71144.  71144.]\n",
      "loan requested [1485374.  711468.  287207.  207975.  207975.]\n",
      "loan request remaining [1058548.  457850.  109939.  136831.  136831.]\n",
      "inv_returns: [3.4  3.4  7.65 9.35 9.35]\n",
      "inv_risks: [ 4.  5. 15. 20. 20.]\n",
      "tot_risk: 4.42 %, tot_return: 5.88 %, tot_sharpe: 1.1\n",
      "tot_returns: [ 4.  4.  9. 11. 11.]\n",
      "tot_risks: [ 4.  5. 15. 20. 20.]\n",
      "--------\n",
      "investor: impact2\n",
      "investment: 1000000 of 1000000 requested\n",
      "risk tol: 0.06 rate floor: 0.04 risk free: 0.01\n",
      "optimal portfolio found:\n",
      "inv_risk: 3.47 %, inv_return: 4.37 %, inv_sharpe: 0.97\n",
      "portfolio weights [0.52 0.29 0.11 0.04 0.04]\n",
      "portfolio investments [515969. 289630. 109939.  42231.  42231.]\n",
      "loan requested [1058547.  457850.  109939.  136832.  136832.]\n",
      "loan request remaining [542578. 168220.      0.  94601.  94601.]\n",
      "inv_returns: [3.4  3.4  7.65 9.35 9.35]\n",
      "inv_risks: [ 4.  5. 15. 20. 20.]\n",
      "tot_risk: 3.47 %, tot_return: 5.14 %, tot_sharpe: 1.19\n",
      "tot_returns: [ 4.  4.  9. 11. 11.]\n",
      "tot_risks: [ 4.  5. 15. 20. 20.]\n",
      "--------\n",
      "investor: impact3\n",
      "investment: 900000.0 of 1000000 requested\n",
      "risk tol: 0.06 rate floor: 0.03 risk free: 0.01\n",
      "optimal portfolio found:\n",
      "inv_risk: 4.69 %, inv_return: 4.65 %, inv_sharpe: 0.78\n",
      "portfolio weights [0.6  0.19 0.   0.11 0.11]\n",
      "portfolio investments [542578. 168220.      0.  94601.  94601.]\n",
      "loan requested [542578. 168220.      0.  94601.  94601.]\n",
      "loan request remaining [0. 0. 0. 0. 0.]\n",
      "inv_returns: [3.4  3.4  0.   9.35 9.35]\n",
      "inv_risks: [  4.   5. 100.  20.  20.]\n",
      "tot_risk: 4.69 %, tot_return: 5.47 %, tot_sharpe: 0.95\n",
      "tot_returns: [ 4.  4.  0. 11. 11.]\n",
      "tot_risks: [  4.   5. 100.  20.  20.]\n",
      "--------\n",
      "investor: monopolyman\n",
      "investment: 0.0 of 1000000 requested\n",
      "risk tol: 0.02 rate floor: 0.07 risk free: 0.01\n",
      "not all constraints met. Best we could do:\n",
      "inv_risk: 52.15 %, inv_return: 0.0 %, inv_sharpe: -0.02\n",
      "portfolio weights [0.2 0.2 0.2 0.2 0.2]\n",
      "portfolio investments [0. 0. 0. 0. 0.]\n",
      "loan requested [ 0.  0. -0. -0. -0.]\n",
      "loan request remaining [ 0.  0. -0. -0. -0.]\n",
      "inv_returns: [0. 0. 0. 0. 0.]\n",
      "inv_risks: [100. 100. 100. 100. 100.]\n",
      "tot_risk: 52.15 %, tot_return: 0.0 %, tot_sharpe: -0.02\n",
      "tot_returns: [0. 0. 0. 0. 0.]\n",
      "tot_risks: [100. 100. 100. 100. 100.]\n"
     ]
    }
   ],
   "source": [
    "# run portfolio optimization for each investor\n",
    "\n",
    "# next iterate through each investor to find optimal portfolio\n",
    "for investor in investors:\n",
    "    # first get return rates, stds, and loan amounts requested from the loan options\n",
    "    return_rates = []\n",
    "    stds = []\n",
    "    amounts = []\n",
    "    for loan_option in loan_menu:\n",
    "        amount = loan_option.amount - loan_option.amountfinanced # get loan amount requested\n",
    "        amounts.append(amount)\n",
    "        # if there is no more money requested, make that loan give 0% return to trick model\n",
    "        if amount > 1:\n",
    "            return_rates.append(loan_option.rateinv) # get return rate for investors\n",
    "            stds.append(loan_option.defaultrate) # get risk rate\n",
    "        else:\n",
    "            return_rates.append(0.)\n",
    "            stds.append(1.)\n",
    "    return_rates_investor = investor_interest_after_spv_cut(return_rates, spvs[0])\n",
    "    # optimize the portfolio under the constraints\n",
    "    success, weights = optimize_portfolio(loan_menu, cov_matrix, investor, return_rates, return_rates_investor, stds, amounts)\n",
    "    # update investor tracker\n",
    "    investor.bestportfolio = weights\n",
    "    investor.optimalportfoliofound = success\n",
    "    # update loan menu with amount invested\n",
    "    i = 0\n",
    "    for loan_option in loan_menu:\n",
    "        loan_option.amountfinanced += weights[i] * investor.investment\n",
    "        i += 1\n",
    "    # TODO adjust loan menu based on investment\n",
    "    "
   ]
  },
  {
   "cell_type": "markdown",
   "metadata": {},
   "source": [
    "### Investment Math\n",
    "Calculate payments and amortization schedule, to define which parties are getting which amounts at which time."
   ]
  },
  {
   "cell_type": "markdown",
   "metadata": {},
   "source": [
    "### Risk Projections\n",
    "Get confidence intervals on the return of the investment math based on loan default projections.  \n",
    "This could be a good test case / playground for some simple cadCAD implementation"
   ]
  },
  {
   "cell_type": "markdown",
   "metadata": {},
   "source": [
    "### Output Aggregation\n",
    "Gather relevant outputs"
   ]
  },
  {
   "cell_type": "markdown",
   "metadata": {},
   "source": [
    "### The Closest Thing to a Dashboard We Should Do in Jupyter Notebooks\n",
    "Visualize relevant info!"
   ]
  },
  {
   "cell_type": "code",
   "execution_count": null,
   "metadata": {},
   "outputs": [],
   "source": []
  }
 ],
 "metadata": {
  "kernelspec": {
   "display_name": "Python 3",
   "language": "python",
   "name": "python3"
  },
  "language_info": {
   "codemirror_mode": {
    "name": "ipython",
    "version": 3
   },
   "file_extension": ".py",
   "mimetype": "text/x-python",
   "name": "python",
   "nbconvert_exporter": "python",
   "pygments_lexer": "ipython3",
   "version": "3.7.3"
  }
 },
 "nbformat": 4,
 "nbformat_minor": 2
}
