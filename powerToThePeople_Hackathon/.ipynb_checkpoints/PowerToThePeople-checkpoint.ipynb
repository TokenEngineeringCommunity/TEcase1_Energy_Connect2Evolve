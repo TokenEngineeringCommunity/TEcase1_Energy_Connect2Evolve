{
 "cells": [
  {
   "cell_type": "code",
   "execution_count": 1,
   "metadata": {},
   "outputs": [],
   "source": [
    "# TODO Create usage scaling probabilities based on cost\n",
    "# TODO Create economic scheme for when users purchase electricity, hard cap on max demand to model user behavior\n",
    "# TODO Hard cap on production to simulate equipment max\n",
    "# TODO2 Can battery have an economic system?"
   ]
  },
  {
   "cell_type": "code",
   "execution_count": null,
   "metadata": {},
   "outputs": [],
   "source": [
    "# 1. Is it possible to run substeps (PSubs) in a non-deterministic order?\n",
    "# 2. How to best handle variables that are only relevant in the step?\n",
    "# 3. Can you update multiple state variables in a single policy? Getting cluttered.\n",
    "# 4. What sorts of datatypes can you use in the state? I'm assuming all"
   ]
  },
  {
   "cell_type": "markdown",
   "metadata": {},
   "source": [
    "# Power to the People Hackathon\n",
    "## Energy System Dynamics"
   ]
  },
  {
   "cell_type": "markdown",
   "metadata": {},
   "source": [
    "### Import Libraries"
   ]
  },
  {
   "cell_type": "code",
   "execution_count": 2,
   "metadata": {},
   "outputs": [],
   "source": [
    "import random\n",
    "import math\n",
    "import numpy as np"
   ]
  },
  {
   "cell_type": "markdown",
   "metadata": {},
   "source": [
    "### Set Initial Conditions"
   ]
  },
  {
   "cell_type": "code",
   "execution_count": 3,
   "metadata": {},
   "outputs": [],
   "source": [
    "# # # # # # # # # # # # # # # # # # # # # # # # # # # # # # # # # # # # # # # # # # # # # # # # \n",
    "# List of all the state variables in the system and their initial values\n",
    "initial_conditions = {\n",
    "    # total tracking of max values\n",
    "    'tot_energy_prod_available': 0, # total energy produced by the system\n",
    "    'tot_energy_appetite_priority': 0, # amount of energy appetite\n",
    "    'tot_energy_appetite_business': 0, # amount of energy appetite\n",
    "    'tot_energy_appetite_leisure': 0, # amount of energy appetite\n",
    "    # total tracking of actual usage\n",
    "    'tot_energy_cons_prod': 0, # total energy consumed\n",
    "    'tot_energy_cons_priority': 0, # amount of energy consumed\n",
    "    'tot_energy_cons_business': 0, # amount of energy consumed\n",
    "    'tot_energy_cons_leisure': 0, # amount of energy consumed\n",
    "    'tot_energy_cons_bat': 0,\n",
    "    'tot_bat_use': 0,\n",
    "    # time tracking\n",
    "    'hour': 0,\n",
    "    # track time-based variances\n",
    "    'annual_var': 0.,\n",
    "    'daily_mult': 0.8,\n",
    "    'annual_var_priority': 0.,\n",
    "    'annual_var_business': 0.8,\n",
    "    'annual_var_leisure': 0.,\n",
    "    'daily_mult_priority': 0.8,\n",
    "    'daily_mult_business': 0.,\n",
    "    'daily_mult_leisure': 0.8,\n",
    "    # timestep energy tracking\n",
    "    't_energy_prod_available': 0, # amount of energy the solartainer can produce this timestep\n",
    "    # limited mechanics tracking\n",
    "    'bat_level': 0, # amount of energy currently stored in the battery  \n",
    "    'bat_lim': 15, # kWh\n",
    "    'max_price_per_kwh': 0.13 # EUR cents\n",
    "}\n",
    "# # # # # # # # # # # # # # # # # # # # # # # # # # # # # # # # # # # # # # # # # # # # # # # # "
   ]
  },
  {
   "cell_type": "markdown",
   "metadata": {},
   "source": [
    "### Set Simulation Parameters"
   ]
  },
  {
   "cell_type": "code",
   "execution_count": 4,
   "metadata": {},
   "outputs": [],
   "source": [
    "# # # # # # # # # # # # # # # # # # # # # # # # # # # # # # # # # # # # # # # # # # # # # # # # \n",
    "# Settings of general simulation parameters, unrelated to the system itself\n",
    "# `T` is a range with the number of discrete units of time the simulation will run for;\n",
    "# `N` is the number of times the simulation will be run (Monte Carlo runs)\n",
    "# `M` is not currently used\n",
    "simulation_parameters = {\n",
    "    'T': range(5*24),\n",
    "    'N': 1,\n",
    "    'M': {}\n",
    "}\n",
    "# # # # # # # # # # # # # # # # # # # # # # # # # # # # # # # # # # # # # # # # # # # # # # # # "
   ]
  },
  {
   "cell_type": "markdown",
   "metadata": {},
   "source": [
    "### Generate Data Functions"
   ]
  },
  {
   "cell_type": "code",
   "execution_count": 5,
   "metadata": {},
   "outputs": [],
   "source": [
    "# # # # # # # # # # # # # # # # # # # # # # # # # # # # # # # # # # # # # # # # # # # # # # # # \n",
    "# Specify the energy generation and usage functions\n",
    "\n",
    "def hourly_production_capacity(params, step, sL, s):\n",
    "    hour = s['hour']\n",
    "    # set cosine function attributes\n",
    "    y_int = 5.6 # tuned to make energy output over year match reported 59000 per Solartainer\n",
    "    cos_mult = 1.5\n",
    "    x_mult = 1./365/24*2*np.pi\n",
    "    # get variances\n",
    "    # annual\n",
    "    if hour % 365 == 0:\n",
    "        mu, sigma = y_int, .1 * y_int\n",
    "        annual_var = np.random.normal(mu, sigma, 1)[0]\n",
    "    else:\n",
    "        annual_var = s['annual_var']\n",
    "    # hourly var\n",
    "    mu = cos_mult*np.cos(step*x_mult) + y_int + annual_var\n",
    "    mu, sigma = mu, .1 * mu\n",
    "    hourly_var = np.random.normal(0, sigma, 1)[0]\n",
    "    # hourly mult\n",
    "    hourly_mult = max(np.sin((hour)/24*2*np.pi - np.pi/2) + 0.5, 0)\n",
    "    # daily (multiplier)\n",
    "    if hour % 24 == 0:\n",
    "        mu, sigma = 1.0, .3\n",
    "        daily_mult = abs(np.random.normal(0.7, sigma, 1)[0])\n",
    "    else:\n",
    "        daily_mult = s['daily_mult']\n",
    "    # get production output\n",
    "    prod = ((cos_mult*np.cos(step*x_mult) + y_int + annual_var + hourly_var) * daily_mult) * hourly_mult\n",
    "    return(prod, annual_var, daily_mult)\n",
    "\n",
    "def hourly_usage_appetite(params, step, sL, s, tier):\n",
    "    hour = s['hour']\n",
    "    # get different cosine manipulators for each tier of user\n",
    "    if tier == 'priority':\n",
    "        y_int = 2.0\n",
    "        annual_var = s['annual_var_priority']\n",
    "        daily_mult = s['daily_mult_priority']\n",
    "        daily_mult_sigma = 0.03\n",
    "    if tier == 'business':\n",
    "        y_int = 1.5\n",
    "        annual_var = s['annual_var_business']\n",
    "        daily_mult = s['daily_mult_business']\n",
    "        daily_mult_sigma = 0.1\n",
    "    if tier == 'leisure':\n",
    "        y_int = 1.2\n",
    "        annual_var = s['annual_var_leisure']\n",
    "        daily_mult = s['daily_mult_leisure']\n",
    "        daily_mult_sigma = 0.2\n",
    "    # set cosine function attributes\n",
    "    cos_mult = 0.8\n",
    "    x_mult = 1./365/24*2*np.pi\n",
    "    # get variances\n",
    "    # annual\n",
    "    if hour % 365 == 0:\n",
    "        mu, sigma = y_int, .1 * y_int\n",
    "        annual_var = np.random.normal(mu, sigma, 1)[0]\n",
    "    # hourly var\n",
    "    mu = cos_mult*np.cos(step*x_mult) + y_int + annual_var\n",
    "    mu, sigma = mu, .1 * mu\n",
    "    hourly_var = np.random.normal(0, sigma, 1)[0]\n",
    "    # hourly mult\n",
    "    hourly_mult = max(np.sin((hour)/24*2*np.pi - np.pi/2) + 0.8, 0)\n",
    "    # daily (multiplier)\n",
    "    if hour % 24 == 0:\n",
    "        mu, sigma = 1.0, daily_mult_sigma\n",
    "        daily_mult = abs(np.random.normal(0.7, sigma, 1)[0])\n",
    "    # get consumption appetite\n",
    "    cons = ((cos_mult*np.cos(step*x_mult) + y_int + annual_var + hourly_var) * daily_mult) * hourly_mult\n",
    "    return(cons, annual_var, daily_mult)\n",
    "\n",
    "# # # # # # # # # # # # # # # # # # # # # # # # # # # # # # # # # # # # # # # # # # # # # # # # "
   ]
  },
  {
   "cell_type": "markdown",
   "metadata": {},
   "source": [
    "### Specify Agent Energy Consumption Functions"
   ]
  },
  {
   "cell_type": "code",
   "execution_count": 6,
   "metadata": {},
   "outputs": [],
   "source": [
    "# # # # # # # # # # # # # # # # # # # # # # # # # # # # # # # # # # # # # # # # # # # # # # # #  \n",
    "# Specify the Solartainer production and battery logic in a Policy function\n",
    "def solartainer_produce(params, step, sL, s):\n",
    "    # calculate production from random variables\n",
    "    t_energy_prod_available, annual_var, daily_mult = hourly_production_capacity(params, step, sL, s)\n",
    "    if s['hour'] % 24 == 0:\n",
    "        print(\"day:\", int(s['hour']/24), 'mult:', s['daily_mult'])\n",
    "    #print('h:', s['hour'],'en:', t_energy_prod_available)\n",
    "    return({'t_energy_prod_available': t_energy_prod_available,\n",
    "            'annual_var': annual_var,\n",
    "            'daily_mult': daily_mult\n",
    "            })\n",
    "\n",
    "# Specify the user of electricity logic in a Policy function\n",
    "def consume_electricity(params, step, sL, s, energy_appetite, use_bat):\n",
    "    energy_avail_prod = s['t_energy_prod_available']\n",
    "    energy_cons_prod = min(energy_avail_prod, energy_appetite)\n",
    "    if use_bat:\n",
    "        energy_cons_bat = min(energy_appetite - energy_cons_prod, s['bat_level'])\n",
    "    else:\n",
    "        energy_cons_bat = 0\n",
    "    # print(step, \"app:\", energy_appetite, \"cons:\", energy_cons_prod, \"avail:\", energy_cons_bat, energy_avail_prod, s['bat_level'])\n",
    "    return(energy_cons_prod, energy_cons_bat)\n",
    "\n",
    "# Specify the individual policy functions of the electricity consumers and battery\n",
    "def userGroup_priority(params, step, sL, s):\n",
    "    # calculate energy appetite from random variables, something about the state?\n",
    "    #energy_appetite = 3 #random.random()*2\n",
    "    energy_appetite, annual_var, daily_mult = hourly_usage_appetite(params, step, sL, s, tier='priority')\n",
    "    # consume electricity based on appetite\n",
    "    energy_cons_prod, energy_cons_bat = consume_electricity(params, step, sL, s, energy_appetite, use_bat=True)\n",
    "    energy_cons = energy_cons_prod + energy_cons_bat\n",
    "    return({'energy_appetite_priority': energy_appetite,\n",
    "            'energy_cons_priority': energy_cons, \n",
    "            't_energy_cons_prod': energy_cons_prod, \n",
    "            't_energy_cons_bat': energy_cons_bat,\n",
    "            'energy_cons_bat': 0,\n",
    "            'annual_var_priority': annual_var,\n",
    "            'daily_mult_priority': daily_mult})\n",
    "\n",
    "def userGroup_business(params, step, sL, s):\n",
    "    # calculate energy appetite from random variables, something about the state?\n",
    "    # energy_appetite = 2 #random.random()*1\n",
    "    energy_appetite, annual_var, daily_mult = hourly_usage_appetite(params, step, sL, s, tier='business')\n",
    "    # consume electricity based on appetite\n",
    "    energy_cons_prod, energy_cons_bat = consume_electricity(params, step, sL, s, energy_appetite, use_bat=True)\n",
    "    energy_cons = energy_cons_prod + energy_cons_bat\n",
    "    return({'energy_appetite_business': energy_appetite,\n",
    "            'energy_cons_business': energy_cons, \n",
    "            't_energy_cons_prod': energy_cons_prod, \n",
    "            't_energy_cons_bat': energy_cons_bat,\n",
    "            'energy_cons_bat': 0,\n",
    "            'annual_var_business': annual_var,\n",
    "            'daily_mult_business': daily_mult})\n",
    "\n",
    "def userGroup_leisure(params, step, sL, s):\n",
    "    # calculate energy appetite from random variables, something about the state?\n",
    "    # energy_appetite = 1 #random.random()*1\n",
    "    energy_appetite, annual_var, daily_mult = hourly_usage_appetite(params, step, sL, s, tier='leisure')\n",
    "    # consume electricity based on appetite\n",
    "    energy_cons_prod, energy_cons_bat = consume_electricity(params, step, sL, s, energy_appetite, use_bat=True)\n",
    "    energy_cons = energy_cons_prod + energy_cons_bat\n",
    "    return({'energy_appetite_leisure': energy_appetite,\n",
    "            'energy_cons_leisure': energy_cons, \n",
    "            't_energy_cons_prod': energy_cons_prod, \n",
    "            't_energy_cons_bat': energy_cons_bat,\n",
    "            'energy_cons_bat': 0,\n",
    "            'annual_var_leisure': annual_var,\n",
    "            'daily_mult_leisure': daily_mult})\n",
    "\n",
    "# Specify the actions of the battery based on leftover electricity\n",
    "def battery_tracker(params, step, sL, s):\n",
    "    # calculate energy appetite based on battery cap\n",
    "    energy_appetite = s['bat_lim'] - s['bat_level']\n",
    "    # consume electricity based on appetite\n",
    "    energy_cons_prod, energy_cons_bat = consume_electricity(params, step, sL, s, energy_appetite, use_bat=False)\n",
    "    return({'t_energy_cons_prod': energy_cons_prod,\n",
    "            'energy_cons_bat': energy_cons_prod,\n",
    "            't_energy_cons_bat': 0,\n",
    "            'hour_inc': 1})\n",
    "\n",
    "# # # # # # # # # # # # # # # # # # # # # # # # # # # # # # # # # # # # # # # # # # # # # # # #"
   ]
  },
  {
   "cell_type": "markdown",
   "metadata": {},
   "source": [
    "### Define State Update Functions"
   ]
  },
  {
   "cell_type": "code",
   "execution_count": 7,
   "metadata": {},
   "outputs": [],
   "source": [
    "# # # # # # # # # # # # # # # # # # # # # # # # # # # # # # # # # # # # # # # # # # # # # # # # \n",
    "# We make the state update functions less \"intelligent\",\n",
    "# ie. they simply add the amount of electricity produced / consumed\n",
    "\n",
    "# update potential max values\n",
    "def increment_tot_energy_prod_available(params, step, sL, s, _input):\n",
    "    y = 'tot_energy_prod_available'\n",
    "    x = s['tot_energy_prod_available'] + _input['t_energy_prod_available']\n",
    "    return (y, x)\n",
    "\n",
    "def set_t_energy_prod_available(params, step, sL, s, _input):\n",
    "    y = 't_energy_prod_available'\n",
    "    x = _input['t_energy_prod_available']\n",
    "    return (y, x)\n",
    "\n",
    "def increment_t_energy_prod_available(params, step, sL, s, _input):\n",
    "    y = 't_energy_prod_available'\n",
    "    x = s['t_energy_prod_available'] - _input['t_energy_cons_prod']\n",
    "    return (y, x)\n",
    "\n",
    "def increment_tot_energy_appetite_priority(params, step, sL, s, _input):\n",
    "    y = 'tot_energy_appetite_priority'\n",
    "    x = s['tot_energy_appetite_priority'] + _input['energy_appetite_priority']\n",
    "    return (y, x)\n",
    "\n",
    "def increment_tot_energy_appetite_business(params, step, sL, s, _input):\n",
    "    y = 'tot_energy_appetite_business'\n",
    "    x = s['tot_energy_appetite_business'] + _input['energy_appetite_business']\n",
    "    return (y, x)\n",
    "\n",
    "def increment_tot_energy_appetite_leisure(params, step, sL, s, _input):\n",
    "    y = 'tot_energy_appetite_leisure'\n",
    "    x = s['tot_energy_appetite_leisure'] + _input['energy_appetite_leisure']\n",
    "    return (y, x)\n",
    "\n",
    "# update actual use values\n",
    "def increment_tot_energy_cons_prod(params, step, sL, s, _input):\n",
    "    y = 'tot_energy_cons_prod'\n",
    "    x = s['tot_energy_cons_prod'] + _input['t_energy_cons_prod']\n",
    "    return (y, x)\n",
    "\n",
    "def increment_tot_energy_cons_priority(params, step, sL, s, _input):\n",
    "    y = 'tot_energy_cons_priority'\n",
    "    x = s['tot_energy_cons_priority'] + _input['energy_cons_priority']\n",
    "    return (y, x)\n",
    "\n",
    "def increment_tot_energy_cons_business(params, step, sL, s, _input):\n",
    "    y = 'tot_energy_cons_business'\n",
    "    x = s['tot_energy_cons_business'] + _input['energy_cons_business']\n",
    "    return (y, x)\n",
    "\n",
    "def increment_tot_energy_cons_leisure(params, step, sL, s, _input):\n",
    "    y = 'tot_energy_cons_leisure'\n",
    "    x = s['tot_energy_cons_leisure'] + _input['energy_cons_leisure']\n",
    "    return (y, x)\n",
    "\n",
    "# update tot battery usage\n",
    "def increment_tot_bat_use(params, step, sL, s, _input):\n",
    "    y = 'tot_bat_use'\n",
    "    x = s['tot_bat_use'] + _input['t_energy_cons_bat']\n",
    "    return (y, x)\n",
    "\n",
    "# update battery state\n",
    "def increment_bat_level(params, step, sL, s, _input):\n",
    "    y = 'bat_level'\n",
    "    x = s['bat_level'] - _input['t_energy_cons_bat'] + _input['energy_cons_bat']\n",
    "    return (y, x)\n",
    "\n",
    "# update input variances\n",
    "def update_annual_var(params, step, sL, s, _input):\n",
    "    y = 'annual_var'\n",
    "    x = _input['annual_var']\n",
    "    return (y, x)\n",
    "\n",
    "def update_daily_mult(params, step, sL, s, _input):\n",
    "    y = 'daily_mult'\n",
    "    x = _input['daily_mult']\n",
    "    return (y, x)\n",
    "\n",
    "# update input variances - priority\n",
    "def update_annual_var_priority(params, step, sL, s, _input):\n",
    "    y = 'annual_var_priority'\n",
    "    x = _input['annual_var_priority']\n",
    "    return (y, x)\n",
    "\n",
    "def update_daily_mult_priority(params, step, sL, s, _input):\n",
    "    y = 'daily_mult_priority'\n",
    "    x = _input['daily_mult_priority']\n",
    "    return (y, x)\n",
    "\n",
    "# update input variances - business\n",
    "def update_annual_var_business(params, step, sL, s, _input):\n",
    "    y = 'annual_var_business'\n",
    "    x = _input['annual_var_business']\n",
    "    return (y, x)\n",
    "\n",
    "def update_daily_mult_business(params, step, sL, s, _input):\n",
    "    y = 'daily_mult_business'\n",
    "    x = _input['daily_mult_business']\n",
    "    return (y, x)\n",
    "\n",
    "# update input variances - leisure\n",
    "def update_annual_var_leisure(params, step, sL, s, _input):\n",
    "    y = 'annual_var_leisure'\n",
    "    x = _input['annual_var_leisure']\n",
    "    return (y, x)\n",
    "\n",
    "def update_daily_mult_leisure(params, step, sL, s, _input):\n",
    "    y = 'daily_mult_leisure'\n",
    "    x = _input['daily_mult_leisure']\n",
    "    return (y, x)\n",
    "\n",
    "# update tracker of hours passed\n",
    "def increment_hour(params, step, sL, s, _input):\n",
    "    y = 'hour'\n",
    "    x = s['hour'] + _input['hour_inc']\n",
    "    return (y, x)\n",
    "\n",
    "# # # # # # # # # # # # # # # # # # # # # # # # # # # # # # # # # # # # # # # # # # # # # # # # "
   ]
  },
  {
   "cell_type": "markdown",
   "metadata": {},
   "source": [
    "### Define Partial State Update Blocks"
   ]
  },
  {
   "cell_type": "code",
   "execution_count": 8,
   "metadata": {},
   "outputs": [],
   "source": [
    "# # # # # # # # # # # # # # # # # # # # # # # # # # # # # # # # # # # # # # # # # # # # # # # # \n",
    "# In the Partial State Update Blocks, \n",
    "# the user specifies if state update functions will be run in series or in parallel\n",
    "# and the policy functions that will be evaluated in that block\n",
    "partial_state_update_blocks = [\n",
    "    { # Get energy available to be used in this timestep\n",
    "        'policies': { # The following policy functions will be evaluated and their returns will be passed to the state update functions\n",
    "            'solartainer_produce': solartainer_produce\n",
    "        },\n",
    "        'variables': { # The following state variables will be updated simultaneously\n",
    "            't_energy_prod_available': set_t_energy_prod_available,\n",
    "            'tot_energy_prod_available': increment_tot_energy_prod_available,\n",
    "            'annual_var': update_annual_var,\n",
    "            'daily_mult': update_daily_mult\n",
    "        }\n",
    "    },\n",
    "    { # Get priority users usage (Tier 1 users)\n",
    "        'policies': { # The following policy functions will be evaluated and their returns will be passed to the state update functions\n",
    "            'userGroup_priority': userGroup_priority\n",
    "        },\n",
    "        'variables': { # The following state variables will be updated simultaneously\n",
    "            'tot_energy_appetite_priority': increment_tot_energy_appetite_priority,\n",
    "            'tot_energy_cons_prod': increment_tot_energy_cons_prod,\n",
    "            'tot_energy_cons_priority': increment_tot_energy_cons_priority,\n",
    "            'tot_bat_use': increment_tot_bat_use,\n",
    "            'bat_level': increment_bat_level,\n",
    "            't_energy_prod_available': increment_t_energy_prod_available,\n",
    "            'annual_var_priority': update_annual_var_priority,\n",
    "            'daily_mult_priority': update_daily_mult_priority\n",
    "        }\n",
    "    },\n",
    "    { # Get business users usage (Tier 2 users)\n",
    "        'policies': { # The following policy functions will be evaluated and their returns will be passed to the state update functions\n",
    "            'userGroup_business': userGroup_business\n",
    "        },\n",
    "        'variables': { # The following state variables will be updated simultaneously\n",
    "            'tot_energy_appetite_business': increment_tot_energy_appetite_business,\n",
    "            'tot_energy_cons_prod': increment_tot_energy_cons_prod,\n",
    "            'tot_energy_cons_business': increment_tot_energy_cons_business,\n",
    "            'tot_bat_use': increment_tot_bat_use,\n",
    "            'bat_level': increment_bat_level,\n",
    "            't_energy_prod_available': increment_t_energy_prod_available,\n",
    "            'annual_var_business': update_annual_var_business,\n",
    "            'daily_mult_business': update_daily_mult_business\n",
    "        }\n",
    "    },\n",
    "    { # Get leisure users usage (Tier 3 users)\n",
    "        'policies': { # The following policy functions will be evaluated and their returns will be passed to the state update functions\n",
    "            'userGroup_leisure': userGroup_leisure\n",
    "        },\n",
    "        'variables': { # The following state variables will be updated simultaneously\n",
    "            'tot_energy_appetite_leisure': increment_tot_energy_appetite_leisure,\n",
    "            'tot_energy_cons_prod': increment_tot_energy_cons_prod,\n",
    "            'tot_energy_cons_leisure': increment_tot_energy_cons_leisure,\n",
    "            'tot_bat_use': increment_tot_bat_use,\n",
    "            'bat_level': increment_bat_level,\n",
    "            't_energy_prod_available': increment_t_energy_prod_available,\n",
    "            'annual_var_leisure': update_annual_var_leisure,\n",
    "            'daily_mult_leisure': update_daily_mult_leisure\n",
    "        }\n",
    "    },\n",
    "    { # Get battery usage (Tier 4)\n",
    "        'policies': { # The following policy functions will be evaluated and their returns will be passed to the state update functions\n",
    "            'battery_tracker': battery_tracker\n",
    "        },\n",
    "        'variables': { # The following state variables will be updated simultaneously\n",
    "            'tot_energy_cons_prod': increment_tot_energy_cons_prod,\n",
    "            'bat_level': increment_bat_level,\n",
    "            't_energy_prod_available': increment_t_energy_prod_available,\n",
    "            'hour': increment_hour\n",
    "        }\n",
    "    }\n",
    "]\n",
    "# # # # # # # # # # # # # # # # # # # # # # # # # # # # # # # # # # # # # # # # # # # # # # # # "
   ]
  },
  {
   "cell_type": "markdown",
   "metadata": {},
   "source": [
    "### Run cadCAD"
   ]
  },
  {
   "cell_type": "code",
   "execution_count": 9,
   "metadata": {},
   "outputs": [
    {
     "name": "stdout",
     "output_type": "stream",
     "text": [
      "\n",
      "                            __________   ____ \n",
      "          ________ __ _____/ ____/   |  / __ \\\n",
      "         / ___/ __` / __  / /   / /| | / / / /\n",
      "        / /__/ /_/ / /_/ / /___/ ___ |/ /_/ / \n",
      "        \\___/\\__,_/\\__,_/\\____/_/  |_/_____/  \n",
      "        by BlockScience\n",
      "        \n",
      "Execution Mode: single_proc: [<cadCAD.configuration.Configuration object at 0x00000275D84CE668>]\n",
      "Configurations: [<cadCAD.configuration.Configuration object at 0x00000275D84CE668>]\n",
      "day: 0 mult: 0.8\n",
      "day: 1 mult: 0.08810292451617874\n",
      "day: 2 mult: 0.39977224506261316\n",
      "day: 3 mult: 1.062431219173584\n",
      "day: 4 mult: 1.106692746858242\n"
     ]
    }
   ],
   "source": [
    "from cadCAD.configuration import Configuration\n",
    "# # # # # # # # # # # # # # # # # # # # # # # # # # # # # # # # # # # # # # # # # # # # # # # # \n",
    "# The configurations above are then packaged into a `Configuration` object\n",
    "config = Configuration(initial_state=initial_conditions, #dict containing variable names and initial values\n",
    "                       partial_state_update_blocks=partial_state_update_blocks, #dict containing state update functions\n",
    "                       sim_config=simulation_parameters #dict containing simulation parameters\n",
    "                      )\n",
    "\n",
    "from cadCAD.engine import ExecutionMode, ExecutionContext, Executor\n",
    "exec_mode = ExecutionMode()\n",
    "exec_context = ExecutionContext(exec_mode.single_proc)\n",
    "executor = Executor(exec_context, [config]) # Pass the configuration object inside an array\n",
    "raw_result, tensor = executor.execute() # The `execute()` method returns a tuple; its first elements contains the raw results\n",
    "\n",
    "%matplotlib inline\n",
    "import pandas as pd\n",
    "df = pd.DataFrame(raw_result)"
   ]
  },
  {
   "cell_type": "markdown",
   "metadata": {},
   "source": [
    "### Plot Some Stuff"
   ]
  },
  {
   "cell_type": "code",
   "execution_count": 10,
   "metadata": {},
   "outputs": [
    {
     "data": {
      "image/png": "[encoded data removed]",
      "text/plain": [
       "<Figure size 432x288 with 1 Axes>"
      ]
     },
     "metadata": {
      "needs_background": "light"
     },
     "output_type": "display_data"
    },
    {
     "data": {
      "image/png": "[encoded data removed]",
      "text/plain": [
       "<Figure size 432x288 with 1 Axes>"
      ]
     },
     "metadata": {
      "needs_background": "light"
     },
     "output_type": "display_data"
    },
    {
     "data": {
      "image/png": "[encoded data removed]",
      "text/plain": [
       "<Figure size 432x288 with 1 Axes>"
      ]
     },
     "metadata": {
      "needs_background": "light"
     },
     "output_type": "display_data"
    },
    {
     "data": {
      "image/png": "[encoded data removed]",
      "text/plain": [
       "<Figure size 432x288 with 1 Axes>"
      ]
     },
     "metadata": {
      "needs_background": "light"
     },
     "output_type": "display_data"
    },
    {
     "data": {
      "image/png": "[encoded data removed]",
      "text/plain": [
       "<Figure size 432x288 with 1 Axes>"
      ]
     },
     "metadata": {
      "needs_background": "light"
     },
     "output_type": "display_data"
    }
   ],
   "source": [
    "df.plot('timestep', ['t_energy_prod_available', 'bat_level'], grid=True);\n",
    "df.plot('timestep', ['tot_energy_prod_available', 'tot_energy_cons_prod', 'tot_bat_use'], grid=True);\n",
    "df.plot('timestep', ['tot_energy_prod_available', 'tot_energy_appetite_priority', 'tot_energy_appetite_business', 'tot_energy_appetite_leisure'], grid=True);\n",
    "df.plot('timestep', ['tot_energy_cons_prod', 'tot_energy_cons_priority', 'tot_energy_cons_business', 'tot_energy_cons_leisure'], grid=True);\n",
    "df.plot('timestep', ['tot_energy_cons_prod', 'tot_bat_use', 'tot_energy_cons_priority', 'tot_energy_cons_business', 'tot_energy_cons_leisure', 'bat_level'], grid=True);"
   ]
  },
  {
   "cell_type": "markdown",
   "metadata": {},
   "source": [
    "### Sandbox"
   ]
  },
  {
   "cell_type": "code",
   "execution_count": 11,
   "metadata": {},
   "outputs": [
    {
     "name": "stdout",
     "output_type": "stream",
     "text": [
      "110938.52944580752\n"
     ]
    },
    {
     "data": {
      "image/png": "[encoded data removed]",
      "text/plain": [
       "<Figure size 432x288 with 1 Axes>"
      ]
     },
     "metadata": {
      "needs_background": "light"
     },
     "output_type": "display_data"
    }
   ],
   "source": [
    "import math\n",
    "import numpy as np\n",
    "def hourly_production_capacity(params, step, sL, s):\n",
    "    hour = step\n",
    "    # set cosine function attributes\n",
    "    y_int = 5.6\n",
    "    cos_mult = 1.5\n",
    "    x_mult = 1./365/24*2*np.pi\n",
    "    # get variances\n",
    "    # annual\n",
    "    if hour % 365 == 0:\n",
    "        mu, sigma = y_int, .1 * y_int\n",
    "        annual_var = np.random.normal(mu, sigma, 1)[0]\n",
    "    else:\n",
    "        annual_var = s['annual_var']\n",
    "    # hourly var\n",
    "    mu = cos_mult*np.cos(step*x_mult) + y_int + annual_var\n",
    "    mu, sigma = mu, .1 * mu\n",
    "    hourly_var = np.random.normal(0, sigma, 1)[0]\n",
    "    # hourly mult\n",
    "    hourly_mult = max(np.sin((hour)/24*2*np.pi - np.pi/2) + 0.5, 0)\n",
    "    # daily (multiplier)\n",
    "    if hour % 24 == 0:\n",
    "        mu, sigma = 1.0, .3\n",
    "        daily_mult = abs(np.random.normal(0.7, sigma, 1)[0])\n",
    "    else:\n",
    "        daily_mult = s['daily_mult']\n",
    "    # get production output\n",
    "    prod = ((cos_mult*np.cos(step*x_mult) + y_int + annual_var + hourly_var) * daily_mult) * hourly_mult\n",
    "    return(prod, annual_var, daily_mult)\n",
    "\n",
    "prods = []\n",
    "s = {\n",
    "    'daily_mult': 1.,\n",
    "    'annual_var': 0.\n",
    "}\n",
    "for x in range(0, 24*365):\n",
    "    prod, daily_mult, annual_var = hourly_production_capacity(None, x, None, s)\n",
    "    s['daily_mult'] = daily_mult\n",
    "    s['annual_var'] = annual_var\n",
    "    prods.append(prod)\n",
    "    \n",
    "print(sum(prods))\n",
    "    \n",
    "import matplotlib.pyplot as plt\n",
    "\n",
    "plt.plot(prods)\n",
    "plt.show()"
   ]
  }
 ],
 "metadata": {
  "kernelspec": {
   "display_name": "Python 3",
   "language": "python",
   "name": "python3"
  },
  "language_info": {
   "codemirror_mode": {
    "name": "ipython",
    "version": 3
   },
   "file_extension": ".py",
   "mimetype": "text/x-python",
   "name": "python",
   "nbconvert_exporter": "python",
   "pygments_lexer": "ipython3",
   "version": "3.7.3"
  }
 },
 "nbformat": 4,
 "nbformat_minor": 2
}
